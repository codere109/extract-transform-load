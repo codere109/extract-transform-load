{
 "cells": [
  {
   "cell_type": "code",
   "execution_count": null,
   "id": "c28482f0",
   "metadata": {},
   "outputs": [],
   "source": [
    "# import dependencies\n",
    "import pandas as pd\n",
    "import unicodedata\n",
    "import re\n",
    "from sqlalchemy import create_engine, inspect\n",
    "from sqlalchemy.orm import Session\n",
    "from sqlalchemy.dialects import postgresql\n",
    "from sqlalchemy.ext.automap import automap_base\n",
    "from sqlalchemy.ext.declarative import declarative_base\n",
    "from bs4 import BeautifulSoup as bs\n",
    "from splinter import Browser\n",
    "from webdriver_manager.chrome import ChromeDriverManager"
   ]
  },
  {
   "cell_type": "markdown",
   "id": "e40f9a7f",
   "metadata": {},
   "source": [
    "## Extract"
   ]
  },
  {
   "cell_type": "code",
   "execution_count": null,
   "id": "b8edff73",
   "metadata": {},
   "outputs": [],
   "source": [
    "# removes accented characters from a string\n",
    "def strip_accents(s):\n",
    "   return ''.join(c for c in unicodedata.normalize('NFD', s)\n",
    "                  if unicodedata.category(c) != 'Mn')\n",
    "\n",
    "# set up the splinter service\n",
    "executable_path = {'executable_path': ChromeDriverManager().install()}\n",
    "browser = Browser('chrome', **executable_path, headless = True)\n",
    "\n",
    "# specify the initial web browser URL\n",
    "web_url = \"https://en.wikipedia.org/wiki/List_of_legendary_creatures_(A)\"\n",
    "\n",
    "# send the browser instance to the provided URL\n",
    "browser.visit(web_url)\n",
    "\n",
    "# initialize the destination lists\n",
    "names = []\n",
    "origins = []\n",
    "descriptions = []\n",
    "\n",
    "# define the alphabetical list for browser navigation\n",
    "alphabet = [\"B\", \"C\", \"D\", \"E\", \"F\", \"G\", \"H\", \"I\", \"J\", \"K\", \"L\", \"M\", \"N\", \"O\", \"P\", \"Q\", \"R\", \"S\", \"T\", \"U\", \"V\", \"W\", \"X\", \"Y\", \"Z\", \"A\"]\n",
    "\n",
    "# iterate through the web pages and scrape the content into the destination lists\n",
    "for letter in alphabet:\n",
    "    \n",
    "    # define the BeautifulSoup instance\n",
    "    soup = bs(browser.html, \"html.parser\")\n",
    "    \n",
    "    # retrieve the creature list\n",
    "    creatures = soup.body.find(\"div\", class_ = \"mw-body-content mw-content-ltr\").find_all(\"ul\")[1].find_all(\"li\")\n",
    "    \n",
    "    # split the list items into name and origin then store into lists\n",
    "    for creature in creatures:\n",
    "        \n",
    "        # store the whole list item text\n",
    "        myStr = creature.text\n",
    "        \n",
    "        # make sure there are parentheses to delimit with\n",
    "        if \"(\" in myStr:\n",
    "            \n",
    "            # split the text by parentheses\n",
    "            split0 = myStr.split(\"(\")\n",
    "            split1 = split0[1].split(\")\")\n",
    "            \n",
    "            # extract the relevant information\n",
    "            name = strip_accents(split0[0].strip())\n",
    "            origin = strip_accents(split1[0].strip())\n",
    "            description = strip_accents(split1[len(split1) - 1].strip()[1:].strip())\n",
    "            \n",
    "            # store the information into lists\n",
    "            names.append(name)\n",
    "            origins.append(origin)\n",
    "            descriptions.append(description)\n",
    "    \n",
    "    # advance to the next page\n",
    "    browser.links.find_by_href(f\"/wiki/List_of_legendary_creatures_({letter})\").click()\n",
    "\n",
    "browser.quit()\n",
    "\n",
    "# store the lists in a dataframe\n",
    "folklore_creatures_df = pd.DataFrame({\n",
    "    \"names\": names,\n",
    "    \"origins\": origins,\n",
    "    \"descriptions\": descriptions})"
   ]
  },
  {
   "cell_type": "code",
   "execution_count": null,
   "id": "a807ee71",
   "metadata": {},
   "outputs": [],
   "source": [
    "# import dnd monster csv into a Pandas dataframe\n",
    "csv_file = \"Resources/dnd_monsters.csv\"\n",
    "dndmonster_df= pd.read_csv(csv_file)\n",
    "dndmonster_df.head()"
   ]
  },
  {
   "cell_type": "markdown",
   "id": "e63a83fd",
   "metadata": {},
   "source": [
    "## Transform"
   ]
  },
  {
   "cell_type": "code",
   "execution_count": null,
   "id": "f1cfe750",
   "metadata": {},
   "outputs": [],
   "source": [
    "# trim out unnecessary columns\n",
    "clean_monster_df = dndmonster_df[[\"name\",\"cr\",\"type\",\"size\",\"ac\",\"hp\",\"align\"]]\n",
    "clean_monster_df.head()"
   ]
  },
  {
   "cell_type": "code",
   "execution_count": null,
   "id": "09e3a484",
   "metadata": {},
   "outputs": [],
   "source": [
    "# remove invalid data\n",
    "clean_monster_df.dropna()"
   ]
  },
  {
   "cell_type": "code",
   "execution_count": null,
   "id": "fad18584",
   "metadata": {},
   "outputs": [],
   "source": [
    "# confirm data types\n",
    "clean_monster_df.dtypes"
   ]
  },
  {
   "cell_type": "code",
   "execution_count": null,
   "id": "e95f22fa",
   "metadata": {},
   "outputs": [],
   "source": [
    "# convert text representations of fractions into decimals\n",
    "clean_monster_df[\"cr\"] = clean_monster_df[\"cr\"].apply(lambda s: re.sub(r\"1/4\",\"0.25\", str(s)))\n",
    "clean_monster_df[\"cr\"] = clean_monster_df[\"cr\"].apply(lambda s: re.sub(r\"1/2\",\"0.50\", str(s)))\n",
    "clean_monster_df[\"cr\"] = clean_monster_df[\"cr\"].apply(lambda s: re.sub(r\"1/8\",\"0.125\", str(s)))"
   ]
  },
  {
   "cell_type": "code",
   "execution_count": null,
   "id": "f0bd0c97",
   "metadata": {},
   "outputs": [],
   "source": [
    "# convert 'challenge rating' column into float from string\n",
    "clean_monster_df[\"cr\"] = clean_monster_df[\"cr\"].astype(float)"
   ]
  },
  {
   "cell_type": "code",
   "execution_count": null,
   "id": "1e304720",
   "metadata": {},
   "outputs": [],
   "source": [
    "# rename columns\n",
    "clean_monster_df = clean_monster_df.rename(columns = {\n",
    "    \"cr\": \"challenge_rating\",\n",
    "    \"ac\": \"armor_class\",\n",
    "    \"hp\": \"hit_points\",\n",
    "    \"align\": \"alignment\"})"
   ]
  },
  {
   "cell_type": "code",
   "execution_count": null,
   "id": "0ae30e42",
   "metadata": {},
   "outputs": [],
   "source": [
    "# confirm data types\n",
    "clean_monster_df.dtypes"
   ]
  },
  {
   "cell_type": "markdown",
   "id": "b3de4e29",
   "metadata": {},
   "source": [
    "## Load"
   ]
  },
  {
   "cell_type": "code",
   "execution_count": null,
   "id": "5007c979",
   "metadata": {},
   "outputs": [],
   "source": [
    "# import the PostgreSQL confidential values\n",
    "from config import postgresql_key, postgresql_port, postgresql_host, postgresql_db, postgresql_user"
   ]
  },
  {
   "cell_type": "code",
   "execution_count": null,
   "id": "838641fb",
   "metadata": {},
   "outputs": [],
   "source": [
    "# create the engine\n",
    "engine = create_engine(f\"postgresql+psycopg2://{postgresql_user}:{postgresql_key}@{postgresql_host}/{postgresql_db}\")"
   ]
  },
  {
   "cell_type": "code",
   "execution_count": null,
   "id": "d64894a9",
   "metadata": {},
   "outputs": [],
   "source": [
    "# create the base reflector and print tables\n",
    "Base = automap_base()\n",
    "Base.prepare(engine, reflect = True)\n",
    "Base.classes.keys()"
   ]
  },
  {
   "cell_type": "code",
   "execution_count": null,
   "id": "5a03d03d",
   "metadata": {},
   "outputs": [],
   "source": [
    "# define the tables\n",
    "dnd_monsters_tbl = Base.classes.dnd_monsters\n",
    "folklore_creatures_tbl = Base.classes.folklore_creatures"
   ]
  },
  {
   "cell_type": "code",
   "execution_count": null,
   "id": "961c061a",
   "metadata": {},
   "outputs": [],
   "source": [
    "# create the session\n",
    "session = Session(engine)"
   ]
  },
  {
   "cell_type": "code",
   "execution_count": null,
   "id": "371695f2",
   "metadata": {},
   "outputs": [],
   "source": [
    "# add data from the clean_monster_df to the current session\n",
    "for index, row in clean_monster_df.iterrows():\n",
    "    session.add(dnd_monsters_tbl(name = row[\"name\"], challenge_rating = row[\"challenge_rating\"], type = row[\"type\"], size = row[\"size\"], armor_class = row[\"armor_class\"], hit_points = row[\"hit_points\"], alignment = row[\"alignment\"]))"
   ]
  },
  {
   "cell_type": "code",
   "execution_count": null,
   "id": "02487eb5",
   "metadata": {},
   "outputs": [],
   "source": [
    "# add data from the folklore_creatures_df to the current session\n",
    "for index, row in folklore_creatures_df.iterrows():\n",
    "    session.add(folklore_creatures_tbl(name = row[\"names\"], origin = row[\"origins\"], description = row[\"descriptions\"]))"
   ]
  },
  {
   "cell_type": "code",
   "execution_count": null,
   "id": "d903dbf0",
   "metadata": {},
   "outputs": [],
   "source": [
    "# send the new data to the database then flush the session\n",
    "session.commit()"
   ]
  },
  {
   "cell_type": "code",
   "execution_count": null,
   "id": "5e260422",
   "metadata": {},
   "outputs": [],
   "source": [
    "# close and release session resources\n",
    "session.close()"
   ]
  },
  {
   "cell_type": "code",
   "execution_count": null,
   "id": "a2dca189",
   "metadata": {},
   "outputs": [],
   "source": []
  }
 ],
 "metadata": {
  "kernelspec": {
   "display_name": "Python 3 (ipykernel)",
   "language": "python",
   "name": "python3"
  },
  "language_info": {
   "codemirror_mode": {
    "name": "ipython",
    "version": 3
   },
   "file_extension": ".py",
   "mimetype": "text/x-python",
   "name": "python",
   "nbconvert_exporter": "python",
   "pygments_lexer": "ipython3",
   "version": "3.8.13"
  }
 },
 "nbformat": 4,
 "nbformat_minor": 5
}
