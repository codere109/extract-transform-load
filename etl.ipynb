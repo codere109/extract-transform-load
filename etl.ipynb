{
 "cells": [
  {
   "cell_type": "code",
   "execution_count": null,
   "id": "c28482f0",
   "metadata": {},
   "outputs": [],
   "source": [
    "# import dependencies\n",
    "import pandas as pd\n",
    "import unicodedata\n",
    "from sqlalchemy import create_engine, inspect\n",
    "from bs4 import BeautifulSoup as bs\n",
    "from splinter import Browser\n",
    "from webdriver_manager.chrome import ChromeDriverManager\n",
    "import re"
   ]
  },
  {
   "cell_type": "code",
   "execution_count": null,
   "id": "a807ee71",
   "metadata": {},
   "outputs": [],
   "source": [
    "# Brandon's code starts here\n",
    "csv_file = \"Resources/dnd_monsters.csv\"\n",
    "dndmonster_df= pd.read_csv(csv_file)\n",
    "dndmonster_df.head()"
   ]
  },
  {
   "cell_type": "code",
   "execution_count": null,
   "id": "f1cfe750",
   "metadata": {},
   "outputs": [],
   "source": [
    "clean_monster_df = dndmonster_df[[\"name\",\"cr\",\"type\",\"size\",\"ac\",\"hp\",\"align\"]]\n",
    "clean_monster_df.head()"
   ]
  },
  {
   "cell_type": "code",
   "execution_count": null,
   "id": "09e3a484",
   "metadata": {},
   "outputs": [],
   "source": [
    "clean_monster_df.dropna()"
   ]
  },
  {
   "cell_type": "code",
   "execution_count": null,
   "id": "2589601b",
   "metadata": {},
   "outputs": [],
   "source": [
    "for index, row in clean_monster_df.iterrows():\n",
    "    if isinstance(row.cr, str):\n",
    "        row= row.copy()\n",
    "        target = "
   ]
  },
  {
   "cell_type": "code",
   "execution_count": null,
   "id": "fad18584",
   "metadata": {},
   "outputs": [],
   "source": [
    "clean_monster_df.dtypes"
   ]
  },
  {
   "cell_type": "code",
   "execution_count": null,
   "id": "e95f22fa",
   "metadata": {},
   "outputs": [],
   "source": [
    "clean_monster_df[\"cr\"] = clean_monster_df[\"cr\"].apply(lambda s: re.sub(r\"1/4\",\"0.25\", str(s)))\n",
    "clean_monster_df[\"cr\"] = clean_monster_df[\"cr\"].apply(lambda s: re.sub(r\"1/2\",\"0.50\", str(s)))\n",
    "clean_monster_df[\"cr\"] = clean_monster_df[\"cr\"].apply(lambda s: re.sub(r\"1/8\",\"0.125\", str(s)))"
   ]
  },
  {
   "cell_type": "code",
   "execution_count": null,
   "id": "f0bd0c97",
   "metadata": {},
   "outputs": [],
   "source": [
    "clean_monster_df[\"cr\"] = clean_monster_df[\"cr\"].astype(float)"
   ]
  },
  {
   "cell_type": "code",
   "execution_count": null,
   "id": "0ae30e42",
   "metadata": {},
   "outputs": [],
   "source": [
    "clean_monster_df.dtypes"
   ]
  },
  {
   "cell_type": "code",
   "execution_count": null,
   "id": "f4e746fd",
   "metadata": {},
   "outputs": [],
   "source": [
    "# Brandon's code ends here"
   ]
  },
  {
   "cell_type": "code",
   "execution_count": null,
   "id": "33beb07f",
   "metadata": {},
   "outputs": [],
   "source": [
    "# Mauvonte's code starts here"
   ]
  },
  {
   "cell_type": "code",
   "execution_count": null,
   "id": "55ee3dd3",
   "metadata": {},
   "outputs": [],
   "source": [
    "# Mauvonte's code ends here"
   ]
  },
  {
   "cell_type": "code",
   "execution_count": null,
   "id": "f4632046",
   "metadata": {},
   "outputs": [],
   "source": [
    "# Scott's code starts here"
   ]
  },
  {
   "cell_type": "code",
   "execution_count": null,
   "id": "b8edff73",
   "metadata": {},
   "outputs": [],
   "source": [
    "# removes accented characters from a string\n",
    "def strip_accents(s):\n",
    "   return ''.join(c for c in unicodedata.normalize('NFD', s)\n",
    "                  if unicodedata.category(c) != 'Mn')\n",
    "\n",
    "# set up the splinter service\n",
    "executable_path = {'executable_path': ChromeDriverManager().install()}\n",
    "browser = Browser('chrome', **executable_path, headless = True)\n",
    "\n",
    "# specify the initial web browser URL\n",
    "web_url = \"https://en.wikipedia.org/wiki/List_of_legendary_creatures_(A)\"\n",
    "\n",
    "# send the browser instance to the provided URL\n",
    "browser.visit(web_url)\n",
    "\n",
    "# initialize the destination lists\n",
    "names = []\n",
    "origins = []\n",
    "descriptions = []\n",
    "\n",
    "# define the alphabetical list for browser navigation\n",
    "alphabet = [\"B\", \"C\", \"D\", \"E\", \"F\", \"G\", \"H\", \"I\", \"J\", \"K\", \"L\", \"M\", \"N\", \"O\", \"P\", \"Q\", \"R\", \"S\", \"T\", \"U\", \"V\", \"W\", \"X\", \"Y\", \"Z\", \"A\"]\n",
    "\n",
    "# iterate through the web pages and scrape the content into the destination lists\n",
    "for letter in alphabet:\n",
    "    \n",
    "    # define the BeautifulSoup instance\n",
    "    soup = bs(browser.html, \"html.parser\")\n",
    "    \n",
    "    # retrieve the creature list\n",
    "    creatures = soup.body.find(\"div\", class_ = \"mw-body-content mw-content-ltr\").find_all(\"ul\")[1].find_all(\"li\")\n",
    "    \n",
    "    # split the list items into name and origin then store into lists\n",
    "    for creature in creatures:\n",
    "        \n",
    "        # store the whole list item text\n",
    "        myStr = creature.text\n",
    "        \n",
    "        # make sure there are parentheses to delimit with\n",
    "        if \"(\" in myStr:\n",
    "            \n",
    "            # split the text by parentheses\n",
    "            split0 = myStr.split(\"(\")\n",
    "            split1 = split0[1].split(\")\")\n",
    "            \n",
    "            # extract the relevant information\n",
    "            name = strip_accents(split0[0].strip())\n",
    "            origin = strip_accents(split1[0].strip())\n",
    "            description = strip_accents(split1[len(split1) - 1].strip()[1:].strip())\n",
    "            \n",
    "            # store the information into lists\n",
    "            names.append(name)\n",
    "            origins.append(origin)\n",
    "            descriptions.append(description)\n",
    "    \n",
    "    # advance to the next page\n",
    "    browser.links.find_by_href(f\"/wiki/List_of_legendary_creatures_({letter})\").click()\n",
    "\n",
    "browser.quit()\n",
    "\n",
    "# store the lists in a dataframe\n",
    "folklore_creatures_df = pd.DataFrame({\n",
    "    \"names\": names,\n",
    "    \"origins\": origins,\n",
    "    \"descriptions\": descriptions})"
   ]
  },
  {
   "cell_type": "code",
   "execution_count": null,
   "id": "831b2959",
   "metadata": {},
   "outputs": [],
   "source": [
    "# Scott's code ends here"
   ]
  },
  {
   "cell_type": "code",
   "execution_count": null,
   "id": "5007c979",
   "metadata": {},
   "outputs": [],
   "source": []
  }
 ],
 "metadata": {
  "kernelspec": {
   "display_name": "Python 3 (ipykernel)",
   "language": "python",
   "name": "python3"
  },
  "language_info": {
   "codemirror_mode": {
    "name": "ipython",
    "version": 3
   },
   "file_extension": ".py",
   "mimetype": "text/x-python",
   "name": "python",
   "nbconvert_exporter": "python",
   "pygments_lexer": "ipython3",
   "version": "3.8.13"
  }
 },
 "nbformat": 4,
 "nbformat_minor": 5
}
