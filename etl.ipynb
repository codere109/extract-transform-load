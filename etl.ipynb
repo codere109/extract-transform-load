{
 "cells": [
  {
   "cell_type": "code",
   "execution_count": null,
   "id": "c28482f0",
   "metadata": {},
   "outputs": [],
   "source": [
    "# import dependencies\n",
    "import pandas as pd\n",
    "from sqlalchemy import create_engine, inspect\n",
    "from bs4 import BeautifulSoup as bs\n",
    "from splinter import Browser\n",
    "from webdriver_manager.chrome import ChromeDriverManager\n",
    "import re"
   ]
  },
  {
   "cell_type": "code",
   "execution_count": null,
   "id": "a807ee71",
   "metadata": {},
   "outputs": [],
   "source": [
    "# Brandon's code starts here\n",
    "csv_file = \"Resources/dnd_monsters.csv\"\n",
    "dndmonster_df= pd.read_csv(csv_file)\n",
    "dndmonster_df.head()"
   ]
  },
  {
   "cell_type": "code",
   "execution_count": null,
   "id": "f1cfe750",
   "metadata": {},
   "outputs": [],
   "source": [
    "clean_monster_df = dndmonster_df[[\"name\",\"cr\",\"type\",\"size\",\"ac\",\"hp\",\"align\"]]\n",
    "clean_monster_df.head()"
   ]
  },
  {
   "cell_type": "code",
   "execution_count": null,
   "id": "09e3a484",
   "metadata": {},
   "outputs": [],
   "source": [
    "clean_monster_df.dropna()"
   ]
  },
  {
   "cell_type": "code",
   "execution_count": null,
   "id": "2589601b",
   "metadata": {},
   "outputs": [],
   "source": [
    "for index, row in clean_monster_df.iterrows():\n",
    "    if isinstance(row.cr, str):\n",
    "        row= row.copy()\n",
    "        target = "
   ]
  },
  {
   "cell_type": "code",
   "execution_count": null,
   "id": "fad18584",
   "metadata": {},
   "outputs": [],
   "source": [
    "clean_monster_df.dtypes"
   ]
  },
  {
   "cell_type": "code",
   "execution_count": null,
   "id": "e95f22fa",
   "metadata": {},
   "outputs": [],
   "source": [
    "clean_monster_df[\"cr\"] = clean_monster_df[\"cr\"].apply(lambda s: re.sub(r\"1/4\",\"0.25\", str(s)))\n",
    "clean_monster_df[\"cr\"] = clean_monster_df[\"cr\"].apply(lambda s: re.sub(r\"1/2\",\"0.50\", str(s)))\n",
    "clean_monster_df[\"cr\"] = clean_monster_df[\"cr\"].apply(lambda s: re.sub(r\"1/8\",\"0.125\", str(s)))"
   ]
  },
  {
   "cell_type": "code",
   "execution_count": null,
   "id": "f0bd0c97",
   "metadata": {},
   "outputs": [],
   "source": [
    "clean_monster_df[\"cr\"] = clean_monster_df[\"cr\"].astype(float)"
   ]
  },
  {
   "cell_type": "code",
   "execution_count": null,
   "id": "0ae30e42",
   "metadata": {},
   "outputs": [],
   "source": [
    "clean_monster_df.dtypes"
   ]
  },
  {
   "cell_type": "code",
   "execution_count": null,
   "id": "f4e746fd",
   "metadata": {},
   "outputs": [],
   "source": [
    "# Brandon's code ends here"
   ]
  },
  {
   "cell_type": "code",
   "execution_count": null,
   "id": "33beb07f",
   "metadata": {},
   "outputs": [],
   "source": [
    "# Mauvonte's code starts here"
   ]
  },
  {
   "cell_type": "code",
   "execution_count": null,
   "id": "55ee3dd3",
   "metadata": {},
   "outputs": [],
   "source": [
    "# Mauvonte's code ends here"
   ]
  },
  {
   "cell_type": "code",
   "execution_count": null,
   "id": "b8edff73",
   "metadata": {},
   "outputs": [],
   "source": [
    "# Scott's code starts here"
   ]
  },
  {
   "cell_type": "code",
   "execution_count": null,
   "id": "831b2959",
   "metadata": {},
   "outputs": [],
   "source": [
    "# Scott's code ends here"
   ]
  }
 ],
 "metadata": {
  "kernelspec": {
   "display_name": "Python 3 (ipykernel)",
   "language": "python",
   "name": "python3"
  },
  "language_info": {
   "codemirror_mode": {
    "name": "ipython",
    "version": 3
   },
   "file_extension": ".py",
   "mimetype": "text/x-python",
   "name": "python",
   "nbconvert_exporter": "python",
   "pygments_lexer": "ipython3",
   "version": "3.8.13"
  }
 },
 "nbformat": 4,
 "nbformat_minor": 5
}
