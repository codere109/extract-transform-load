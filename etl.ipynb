{
 "cells": [
  {
   "cell_type": "code",
   "execution_count": 1,
   "id": "c28482f0",
   "metadata": {},
   "outputs": [],
   "source": [
    "# import dependencies\n",
    "import pandas as pd\n",
    "from sqlalchemy import create_engine, inspect\n",
    "from bs4 import BeautifulSoup as bs\n",
    "from splinter import Browser\n",
    "from webdriver_manager.chrome import ChromeDriverManager"
   ]
  },
  {
   "cell_type": "code",
   "execution_count": null,
   "id": "a807ee71",
   "metadata": {},
   "outputs": [],
   "source": [
    "# Brandon's code starts here"
   ]
  },
  {
   "cell_type": "code",
   "execution_count": null,
   "id": "f4e746fd",
   "metadata": {},
   "outputs": [],
   "source": [
    "# Brandon's code ends here"
   ]
  },
  {
   "cell_type": "code",
   "execution_count": null,
   "id": "33beb07f",
   "metadata": {},
   "outputs": [],
   "source": [
    "# Mauvonte's code starts here"
   ]
  },
  {
   "cell_type": "code",
   "execution_count": null,
   "id": "55ee3dd3",
   "metadata": {},
   "outputs": [],
   "source": [
    "# Mauvonte's code ends here"
   ]
  },
  {
   "cell_type": "code",
   "execution_count": 52,
   "id": "b19346c3",
   "metadata": {},
   "outputs": [],
   "source": [
    "# Scott's code starts here"
   ]
  },
  {
   "cell_type": "code",
   "execution_count": 56,
   "id": "b8edff73",
   "metadata": {},
   "outputs": [
    {
     "data": {
      "text/html": [
       "<div>\n",
       "<style scoped>\n",
       "    .dataframe tbody tr th:only-of-type {\n",
       "        vertical-align: middle;\n",
       "    }\n",
       "\n",
       "    .dataframe tbody tr th {\n",
       "        vertical-align: top;\n",
       "    }\n",
       "\n",
       "    .dataframe thead th {\n",
       "        text-align: right;\n",
       "    }\n",
       "</style>\n",
       "<table border=\"1\" class=\"dataframe\">\n",
       "  <thead>\n",
       "    <tr style=\"text-align: right;\">\n",
       "      <th></th>\n",
       "      <th>names</th>\n",
       "      <th>origins</th>\n",
       "    </tr>\n",
       "  </thead>\n",
       "  <tbody>\n",
       "    <tr>\n",
       "      <th>0</th>\n",
       "      <td>Á Bao A Qu</td>\n",
       "      <td>Malay</td>\n",
       "    </tr>\n",
       "    <tr>\n",
       "      <th>1</th>\n",
       "      <td>Aatxe</td>\n",
       "      <td>Basque</td>\n",
       "    </tr>\n",
       "    <tr>\n",
       "      <th>2</th>\n",
       "      <td>Abaasy</td>\n",
       "      <td>Yakuts</td>\n",
       "    </tr>\n",
       "    <tr>\n",
       "      <th>3</th>\n",
       "      <td>Abada</td>\n",
       "      <td>African</td>\n",
       "    </tr>\n",
       "    <tr>\n",
       "      <th>4</th>\n",
       "      <td>Äbädä</td>\n",
       "      <td>Tatar</td>\n",
       "    </tr>\n",
       "  </tbody>\n",
       "</table>\n",
       "</div>"
      ],
      "text/plain": [
       "        names  origins\n",
       "0  Á Bao A Qu    Malay\n",
       "1       Aatxe   Basque\n",
       "2      Abaasy   Yakuts\n",
       "3       Abada  African\n",
       "4       Äbädä    Tatar"
      ]
     },
     "execution_count": 56,
     "metadata": {},
     "output_type": "execute_result"
    }
   ],
   "source": [
    "# set up the splinter service\n",
    "executable_path = {'executable_path': ChromeDriverManager().install()}\n",
    "browser = Browser('chrome', **executable_path, headless = True)\n",
    "\n",
    "# specify the initial web browser URL\n",
    "web_url = \"https://en.wikipedia.org/wiki/List_of_legendary_creatures_(A)\"\n",
    "\n",
    "# send the browser instance to the provided URL\n",
    "browser.visit(web_url)\n",
    "\n",
    "# define the BeautifulSoup instance\n",
    "soup = bs(browser.html, \"html.parser\")\n",
    "\n",
    "# initialize the destination lists\n",
    "names = []\n",
    "origins = []\n",
    "\n",
    "# define the alphabetical list for browser navigation\n",
    "alphabet = [\"B\", \"C\", \"D\", \"E\", \"F\", \"G\", \"H\", \"I\", \"J\", \"K\", \"L\", \"M\", \"N\", \"O\", \"P\", \"Q\", \"R\", \"S\", \"T\", \"U\", \"V\", \"W\", \"X\", \"Y\", \"Z\"]\n",
    "\n",
    "# iterate through the web pages and scrape the content into the destination lists\n",
    "for letter in alphabet:\n",
    "    \n",
    "    # retrieve the creature list\n",
    "    creatures = soup.body.find(\"div\", class_ = \"mw-body-content mw-content-ltr\").find_all(\"ul\")[1].find_all(\"li\")\n",
    "    \n",
    "    # split the list items into name and origin then store into lists\n",
    "    for creature in creatures:\n",
    "        split0 = creature.text.split(\"–\")\n",
    "        split1 = split0[0].split(\"(\")\n",
    "        names.append(split1[0].strip())\n",
    "        origins.append(split1[1].replace(\")\", \"\").strip())\n",
    "    \n",
    "    # retrieve the \n",
    "    browser.links.find_by_href(f\"/wiki/List_of_legendary_creatures_({letter})\").click()\n",
    "\n",
    "browser.quit()\n",
    "\n",
    "# store the lists in a dataframe\n",
    "folklore_creatures_df = pd.DataFrame({\n",
    "    \"names\": names,\n",
    "    \"origins\": origins})\n",
    "\n",
    "folklore_creatures_df.head()"
   ]
  },
  {
   "cell_type": "code",
   "execution_count": null,
   "id": "831b2959",
   "metadata": {},
   "outputs": [],
   "source": [
    "# Scott's code ends here"
   ]
  }
 ],
 "metadata": {
  "kernelspec": {
   "display_name": "Python 3 (ipykernel)",
   "language": "python",
   "name": "python3"
  },
  "language_info": {
   "codemirror_mode": {
    "name": "ipython",
    "version": 3
   },
   "file_extension": ".py",
   "mimetype": "text/x-python",
   "name": "python",
   "nbconvert_exporter": "python",
   "pygments_lexer": "ipython3",
   "version": "3.8.13"
  }
 },
 "nbformat": 4,
 "nbformat_minor": 5
}
