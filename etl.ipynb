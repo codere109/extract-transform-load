{
 "cells": [
  {
   "cell_type": "code",
   "execution_count": null,
   "id": "c28482f0",
   "metadata": {},
   "outputs": [],
   "source": [
    "# import dependencies\n",
    "import pandas as pd\n",
    "from sqlalchemy import create_engine, inspect\n",
    "from bs4 import BeautifulSoup as bs\n",
    "from splinter import Browser\n",
    "from webdriver_manager.chrome import ChromeDriverManager"
   ]
  },
  {
   "cell_type": "code",
   "execution_count": null,
   "id": "a807ee71",
   "metadata": {},
   "outputs": [],
   "source": [
    "# Brandon's code starts here"
   ]
  },
  {
   "cell_type": "code",
   "execution_count": null,
   "id": "f4e746fd",
   "metadata": {},
   "outputs": [],
   "source": [
    "# Brandon's code ends here"
   ]
  },
  {
   "cell_type": "code",
   "execution_count": null,
   "id": "33beb07f",
   "metadata": {},
   "outputs": [],
   "source": [
    "# Mauvonte's code starts here"
   ]
  },
  {
   "cell_type": "code",
   "execution_count": null,
   "id": "55ee3dd3",
   "metadata": {},
   "outputs": [],
   "source": [
    "# Mauvonte's code ends here"
   ]
  },
  {
   "cell_type": "code",
   "execution_count": null,
   "id": "b8edff73",
   "metadata": {},
   "outputs": [],
   "source": [
    "# Scott's code starts here"
   ]
  },
  {
   "cell_type": "code",
   "execution_count": null,
   "id": "831b2959",
   "metadata": {},
   "outputs": [],
   "source": [
    "# Scott's code ends here"
   ]
  }
 ],
 "metadata": {
  "kernelspec": {
   "display_name": "Python 3 (ipykernel)",
   "language": "python",
   "name": "python3"
  },
  "language_info": {
   "codemirror_mode": {
    "name": "ipython",
    "version": 3
   },
   "file_extension": ".py",
   "mimetype": "text/x-python",
   "name": "python",
   "nbconvert_exporter": "python",
   "pygments_lexer": "ipython3",
   "version": "3.8.13"
  }
 },
 "nbformat": 4,
 "nbformat_minor": 5
}
